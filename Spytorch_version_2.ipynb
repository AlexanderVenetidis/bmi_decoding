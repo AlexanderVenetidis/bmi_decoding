{
  "nbformat": 4,
  "nbformat_minor": 0,
  "metadata": {
    "accelerator": "GPU",
    "colab": {
      "name": "Spytorch version 2.ipynb",
      "provenance": [],
      "collapsed_sections": [],
      "machine_shape": "hm"
    },
    "kernelspec": {
      "display_name": "Python 3",
      "language": "python",
      "name": "python3"
    },
    "language_info": {
      "codemirror_mode": {
        "name": "ipython",
        "version": 3
      },
      "file_extension": ".py",
      "mimetype": "text/x-python",
      "name": "python",
      "nbconvert_exporter": "python",
      "pygments_lexer": "ipython3",
      "version": "3.6.7"
    }
  },
  "cells": [
    {
      "cell_type": "code",
      "metadata": {
        "colab": {
          "base_uri": "https://localhost:8080/"
        },
        "id": "0OWIrN9fN1YY",
        "outputId": "6bd75d36-0c32-47d3-b378-51ef99d0534b"
      },
      "source": [
        "from google.colab import drive\n",
        "drive.mount('/content/drive/')"
      ],
      "execution_count": 1,
      "outputs": [
        {
          "output_type": "stream",
          "text": [
            "Mounted at /content/drive/\n"
          ],
          "name": "stdout"
        }
      ]
    },
    {
      "cell_type": "code",
      "metadata": {
        "colab": {
          "base_uri": "https://localhost:8080/"
        },
        "id": "9JTE1fOrN2w6",
        "outputId": "cc31aa03-1695-4b9d-ae01-3cc6b96c6b4c"
      },
      "source": [
        "cd 'drive/MyDrive/Colab Notebooks/BMI-Decoding'"
      ],
      "execution_count": 2,
      "outputs": [
        {
          "output_type": "stream",
          "text": [
            "/content/drive/MyDrive/Colab Notebooks/BMI-Decoding\n"
          ],
          "name": "stdout"
        }
      ]
    },
    {
      "cell_type": "code",
      "metadata": {
        "id": "abvTfH2ZNzQU"
      },
      "source": [
        "# import packages\n",
        "import h5py\n",
        "import numpy as np\n",
        "from functions.preprocess import input_shaping, split_index\n",
        "from functions.decoders import lstm_decoder\n",
        "from functions.metrics import compute_rmse, compute_pearson\n",
        "import matplotlib.pyplot as plt\n",
        "import seaborn as sns\n",
        "import time as timer\n",
        "from tensorflow import random\n",
        "from scipy import stats"
      ],
      "execution_count": 3,
      "outputs": []
    },
    {
      "cell_type": "code",
      "metadata": {
        "colab": {
          "base_uri": "https://localhost:8080/"
        },
        "id": "LOroJZf8NzQf",
        "outputId": "fc09ef54-50ea-4778-e476-281688ee7777"
      },
      "source": [
        "seed = 2020 # random seed for reproducibility\n",
        "\n",
        "print (\"Starting simulation\")\n",
        "run_start = timer.time()\n",
        "\n",
        "feature_list = ['sua_rate','mua_rate']\n",
        "feature = feature_list[1] # select which spike feature: SUA=0, MUA=1\n",
        "\n",
        "# specify filename to be processed (choose from the list available at https://zenodo.org/record/583331)\n",
        "file_name = 'indy_20160915_01'          # file name\n",
        "kinematic_folder = 'kinematic_data/'    # kinematic data folder\n",
        "feature_folder = 'spike_data/features/' # spike features folder\n",
        "result_folder = 'results/'              # results folder"
      ],
      "execution_count": 4,
      "outputs": [
        {
          "output_type": "stream",
          "text": [
            "Starting simulation\n"
          ],
          "name": "stdout"
        }
      ]
    },
    {
      "cell_type": "code",
      "metadata": {
        "id": "Ib-PJx1XNzQh"
      },
      "source": [
        "wdw_time = 0.256 # window size in second\n",
        "lag = -32 # lag between kinematic and feature data (minus indicate feature lagging behaind kinematic)\n",
        "delta_time = 0.004 # sampling interval in second\n",
        "wdw_samp = int(round(wdw_time/delta_time))\n",
        "ol_samp = wdw_samp-1"
      ],
      "execution_count": 5,
      "outputs": []
    },
    {
      "cell_type": "markdown",
      "metadata": {
        "id": "HeHp2S6aNzQi"
      },
      "source": [
        "## Importing data to be processed"
      ]
    },
    {
      "cell_type": "code",
      "metadata": {
        "colab": {
          "base_uri": "https://localhost:8080/"
        },
        "id": "i0kXqkHENzQi",
        "outputId": "f86c0332-4cc1-4342-906f-0336ed212bb6"
      },
      "source": [
        "# open spike features from hdf5 file\n",
        "feature_file = feature_folder+file_name+'_spike_features_'+str(int(wdw_time*1e3))+'ms.h5'\n",
        "print (\"Loading input features from file: \"+feature_file)\n",
        "with h5py.File(feature_file,'r') as f:\n",
        "    input_feature = f[feature][()]"
      ],
      "execution_count": 6,
      "outputs": [
        {
          "output_type": "stream",
          "text": [
            "Loading input features from file: spike_data/features/indy_20160915_01_spike_features_256ms.h5\n"
          ],
          "name": "stdout"
        }
      ]
    },
    {
      "cell_type": "code",
      "metadata": {
        "colab": {
          "base_uri": "https://localhost:8080/"
        },
        "id": "AkaJm1wtNzQk",
        "outputId": "db0f2309-c3d3-42ed-8886-03315b24bebb"
      },
      "source": [
        "# open kinematic data from hdf5 file\n",
        "kinematic_file = kinematic_folder+file_name+'_kinematic_data.h5'\n",
        "print (\"Loading kinematic data from file: \"+kinematic_file)\n",
        "#fields: ['cursor_acc', 'cursor_pos', 'cursor_time', 'cursor_vel', 'target_pos']\n",
        "with h5py.File(kinematic_file,'r') as f:\n",
        "    cursor_vel = f['cursor_vel'][()] # in mm/s"
      ],
      "execution_count": 7,
      "outputs": [
        {
          "output_type": "stream",
          "text": [
            "Loading kinematic data from file: kinematic_data/indy_20160915_01_kinematic_data.h5\n"
          ],
          "name": "stdout"
        }
      ]
    },
    {
      "cell_type": "markdown",
      "metadata": {
        "id": "NquB-lB-NzQk"
      },
      "source": [
        "## Preprocessing the data to fit a model"
      ]
    },
    {
      "cell_type": "code",
      "metadata": {
        "id": "o0oQK5kmNzQl"
      },
      "source": [
        "from sklearn.preprocessing import StandardScaler, MinMaxScaler\n",
        "mm = MinMaxScaler()\n",
        "ss = StandardScaler()\n",
        "\n",
        "\n",
        "X_ss = ss.fit_transform(input_feature)\n",
        "y_mm = mm.fit_transform(cursor_vel)"
      ],
      "execution_count": 8,
      "outputs": []
    },
    {
      "cell_type": "code",
      "metadata": {
        "colab": {
          "base_uri": "https://localhost:8080/"
        },
        "id": "4xEG1vYyNzQl",
        "outputId": "6aa896e1-1785-46bd-e295-e94611a23a6a"
      },
      "source": [
        "print(X_ss.shape, y_mm.shape)"
      ],
      "execution_count": 9,
      "outputs": [
        {
          "output_type": "stream",
          "text": [
            "(95262, 88) (95262, 2)\n"
          ],
          "name": "stdout"
        }
      ]
    },
    {
      "cell_type": "code",
      "metadata": {
        "id": "o1RRC4tANzQm"
      },
      "source": [
        "#first 90,000 for training\n",
        "\n",
        "X_train = X_ss[:90000, :]\n",
        "X_test = X_ss[90000:, :]\n",
        "\n",
        "y_train = y_mm[:90000, :]\n",
        "y_test = y_mm[90000:, :] "
      ],
      "execution_count": 10,
      "outputs": []
    },
    {
      "cell_type": "code",
      "metadata": {
        "colab": {
          "base_uri": "https://localhost:8080/"
        },
        "id": "MWp-u1QeNzQn",
        "outputId": "0f06a1cc-28cd-4bc2-faed-adf4d93c8a0a"
      },
      "source": [
        "print(\"Training Shape\", X_train.shape, y_train.shape)\n",
        "print(\"Testing Shape\", X_test.shape, y_test.shape) "
      ],
      "execution_count": 11,
      "outputs": [
        {
          "output_type": "stream",
          "text": [
            "Training Shape (90000, 88) (90000, 2)\n",
            "Testing Shape (5262, 88) (5262, 2)\n"
          ],
          "name": "stdout"
        }
      ]
    },
    {
      "cell_type": "markdown",
      "metadata": {
        "id": "DkjTRVVPNzQn"
      },
      "source": [
        "## Adjusting the data for pytorch model"
      ]
    },
    {
      "cell_type": "code",
      "metadata": {
        "id": "LZLqP07TNzQo"
      },
      "source": [
        "import torch #pytorch\n",
        "import torch.nn as nn\n",
        "from torch.autograd import Variable"
      ],
      "execution_count": 12,
      "outputs": []
    },
    {
      "cell_type": "code",
      "metadata": {
        "id": "VNmaEpNfNzQp"
      },
      "source": [
        "#converting nparrays to tensors for pytorch\n",
        "\n",
        "X_train_tensors = Variable(torch.Tensor(X_train))\n",
        "X_test_tensors = Variable(torch.Tensor(X_test))\n",
        "\n",
        "y_train_tensors = Variable(torch.Tensor(y_train))\n",
        "y_test_tensors = Variable(torch.Tensor(y_test))\n"
      ],
      "execution_count": 13,
      "outputs": []
    },
    {
      "cell_type": "code",
      "metadata": {
        "colab": {
          "base_uri": "https://localhost:8080/"
        },
        "id": "_470W5DQNzQp",
        "outputId": "858e79aa-b3bd-4ed7-efa2-9af8eafd4619"
      },
      "source": [
        "#reshaping to rows, timestamps, features\n",
        "\n",
        "X_train_tensors_final = torch.reshape(X_train_tensors,   (X_train_tensors.shape[0], 1, X_train_tensors.shape[1]))\n",
        "X_test_tensors_final = torch.reshape(X_test_tensors,  (X_test_tensors.shape[0], 1, X_test_tensors.shape[1]))\n",
        "\n",
        "print(\"Training Shape\", X_train_tensors_final.shape, y_train_tensors.shape)\n",
        "print(\"Testing Shape\", X_test_tensors_final.shape, y_test_tensors.shape)"
      ],
      "execution_count": 14,
      "outputs": [
        {
          "output_type": "stream",
          "text": [
            "Training Shape torch.Size([90000, 1, 88]) torch.Size([90000, 2])\n",
            "Testing Shape torch.Size([5262, 1, 88]) torch.Size([5262, 2])\n"
          ],
          "name": "stdout"
        }
      ]
    },
    {
      "cell_type": "markdown",
      "metadata": {
        "id": "nTGy91bdNzQq"
      },
      "source": [
        "## Importing spytorch functions"
      ]
    },
    {
      "cell_type": "code",
      "metadata": {
        "id": "V9Nq4pEzNzQq"
      },
      "source": [
        "# The coarse network structure is dicated by the Fashion MNIST dataset. \n",
        "nb_inputs  = 88*1\n",
        "nb_hidden  = 100\n",
        "nb_outputs = 2\n",
        "\n",
        "time_step = 1e-3\n",
        "nb_steps  = 40\n",
        "\n",
        "batch_size = 256\n",
        "\n",
        "dtype = torch.float\n",
        "# Check whether a GPU is available\n",
        "if torch.cuda.is_available():\n",
        "    device = torch.device(\"cuda\")     \n",
        "else:\n",
        "    device = torch.device(\"cpu\")"
      ],
      "execution_count": 15,
      "outputs": []
    },
    {
      "cell_type": "code",
      "metadata": {
        "colab": {
          "base_uri": "https://localhost:8080/"
        },
        "id": "jNXvFvAUNzQr",
        "outputId": "4531530d-e7e3-4bb8-efb3-6efe24af9c0a"
      },
      "source": [
        "tau_mem = 10e-3\n",
        "tau_syn = 5e-3\n",
        "\n",
        "# beta    = float(np.exp(-time_step/tau_mem))\n",
        "# weight_scale = 7*(1.0-beta) # this should give us some spikes to begin with\n",
        "\n",
        "\n",
        "\n",
        "print(\"init done\")"
      ],
      "execution_count": 16,
      "outputs": [
        {
          "output_type": "stream",
          "text": [
            "init done\n"
          ],
          "name": "stdout"
        }
      ]
    },
    {
      "cell_type": "code",
      "metadata": {
        "id": "aYz6Du9BNzQs"
      },
      "source": [
        "def current2firing_time(x, tau=20, thr=0.2, tmax=1.0, epsilon=1e-7):\n",
        "    \"\"\" Computes first firing time latency for a current input x assuming the charge time of a current based LIF neuron.\n",
        "\n",
        "    Args:\n",
        "    x -- The \"current\" values\n",
        "\n",
        "    Keyword args:\n",
        "    tau -- The membrane time constant of the LIF neuron to be charged\n",
        "    thr -- The firing threshold value \n",
        "    tmax -- The maximum time returned \n",
        "    epsilon -- A generic (small) epsilon > 0\n",
        "\n",
        "    Returns:\n",
        "    Time to first spike for each \"current\" x\n",
        "    \"\"\"\n",
        "    idx = x<thr\n",
        "    x = np.clip(x,thr+epsilon,1e9)\n",
        "    T = tau*np.log(x/(x-thr))\n",
        "    T[idx] = tmax\n",
        "    return T\n",
        " \n",
        "\n",
        "def sparse_data_generator(X, y, batch_size, nb_steps, nb_units, sample_size=nb_steps,overlap_units=1,shuffle=True ):\n",
        "    \"\"\" This generator takes datasets in analog format and generates spiking network input as sparse tensors. \n",
        "\n",
        "    Args:\n",
        "        X: The data ( sample x event x 2 ) the last dim holds (time,neuron) tuples\n",
        "        y: The labels\n",
        "    \"\"\"\n",
        "\n",
        "    labels_ = np.array(y,dtype=np.int)\n",
        "    number_of_batches = len(X)//batch_size\n",
        "    sample_index = np.arange(0,len(X)-sample_size,overlap_units)\n",
        "\n",
        "#     # compute discrete firing times\n",
        "#     tau_eff = 20e-3/time_step\n",
        "#     firing_times = np.array(current2firing_time(X, tau=tau_eff, tmax=nb_steps), dtype=np.int)\n",
        "#     unit_numbers = np.arange(nb_units)\n",
        "    \n",
        "    if shuffle:\n",
        "        np.random.shuffle(sample_index)\n",
        "    \n",
        "    \n",
        "\n",
        "    total_batch_count = 0\n",
        "    counter = 0\n",
        "    while counter<number_of_batches:\n",
        "        \n",
        "#         for batch_sample_i in range(batch_size):\n",
        "        batch_index = sample_index[batch_size*counter:batch_size*(counter+1)]\n",
        "\n",
        "        # batch_index = np.arange(sample_index[counter],sample_index[counter]+batch_size)\n",
        "\n",
        "\n",
        "        \n",
        "        X_batch = np.zeros((batch_size,sample_size,X.shape[-1]))\n",
        "        y_batch = np.zeros((batch_size,y.shape[-1]))\n",
        "        for bc,idx in enumerate(batch_index):\n",
        "            X_batch[bc,:,:] = X[idx:idx+sample_size,:,:].reshape((1,sample_size,X.shape[-1]))\n",
        "            y_batch[bc, :] = y[idx+sample_size-1,:]\n",
        "            \n",
        "#         i = torch.LongTensor(coo).to(device)\n",
        "#         v = torch.FloatTensor(np.ones(len(coo[0]))).to(device)\n",
        "    \n",
        "        X_batch = torch.FloatTensor(X_batch).to(device)\n",
        "        y_batch = torch.tensor(y_batch,device=device)\n",
        "\n",
        "        yield X_batch.to(device=device), y_batch.to(device=device)\n",
        "\n",
        "        counter += 1"
      ],
      "execution_count": 17,
      "outputs": []
    },
    {
      "cell_type": "code",
      "metadata": {
        "id": "-LjSAMtyNzQt"
      },
      "source": [
        "\n",
        "class SurrGradSpike(torch.autograd.Function):\n",
        "    \"\"\"\n",
        "    Here we implement our spiking nonlinearity which also implements \n",
        "    the surrogate gradient. By subclassing torch.autograd.Function, \n",
        "    we will be able to use all of PyTorch's autograd functionality.\n",
        "    Here we use the normalized negative part of a fast sigmoid \n",
        "    as this was done in Zenke & Ganguli (2018).\n",
        "    \"\"\"\n",
        "    \n",
        "    scale = 100.0 # controls steepness of surrogate gradient\n",
        "\n",
        "    @staticmethod\n",
        "    def forward(ctx, input):\n",
        "        \"\"\"\n",
        "        In the forward pass we compute a step function of the input Tensor\n",
        "        and return it. ctx is a context object that we use to stash information which \n",
        "        we need to later backpropagate our error signals. To achieve this we use the \n",
        "        ctx.save_for_backward method.\n",
        "        \"\"\"\n",
        "        ctx.save_for_backward(input)\n",
        "        out = torch.zeros_like(input)\n",
        "        out[input > 0] = 1.0\n",
        "        return out\n",
        "\n",
        "    @staticmethod\n",
        "    def backward(ctx, grad_output):\n",
        "        \"\"\"\n",
        "        In the backward pass we receive a Tensor we need to compute the \n",
        "        surrogate gradient of the loss with respect to the input. \n",
        "        Here we use the normalized negative part of a fast sigmoid \n",
        "        as this was done in Zenke & Ganguli (2018).\n",
        "        \"\"\"\n",
        "        input, = ctx.saved_tensors\n",
        "        grad_input = grad_output.clone()\n",
        "        grad = grad_input/(SurrGradSpike.scale*torch.abs(input)+1.0)**2\n",
        "        return grad\n",
        "    \n",
        "# here we overwrite our naive spike function by the \"SurrGradSpike\" nonlinearity which implements a surrogate gradient\n",
        "spike_fn  = SurrGradSpike.apply"
      ],
      "execution_count": 23,
      "outputs": []
    },
    {
      "cell_type": "code",
      "metadata": {
        "id": "I5iDqcGByu3E"
      },
      "source": [
        "class Spiking_Linear_layer(nn.Module):\n",
        "    \"\"\" Custom Linear layer but mimics a standard linear layer \"\"\"\n",
        "    def __init__(self, size_in, size_out):\n",
        "        super().__init__()\n",
        "\n",
        "        self.alpha = nn.Parameter(torch.empty((1,size_out), device=device, dtype=dtype), requires_grad=True)\n",
        "        self.beta = nn.Parameter(torch.empty((1,size_out), device=device, dtype=dtype), requires_grad=True)\n",
        "\n",
        "        torch.nn.init.normal_(self.alpha, mean=np.exp(-time_step/tau_syn), std=1e-6) #using time constant such that you get alpha and beta to 0.9, change to uniform\n",
        "        torch.nn.init.normal_(self.beta, mean=np.exp(-time_step/tau_mem), std=1e-6)\n",
        "\n",
        "        weight_scale = 7*(1.0-np.exp(-time_step/tau_mem)) # this should give us some spikes to begin with\n",
        "\n",
        "        self.size_in = size_in\n",
        "        self.size_out = size_out\n",
        "\n",
        "        self.w1 = nn.Parameter(torch.empty((size_in, size_out),  device=device, dtype=dtype, requires_grad=True))\n",
        "        torch.nn.init.uniform_(self.w1, -2*weight_scale/np.sqrt(size_in), 2*weight_scale/np.sqrt(size_in))\n",
        "\n",
        "        self.v1 = nn.Parameter(torch.empty((size_out, size_out), device=device, dtype=dtype, requires_grad=True))\n",
        "        torch.nn.init.uniform_(self.v1, -2*weight_scale/np.sqrt(size_in), 2*weight_scale/np.sqrt(size_in))\n",
        "\n",
        "        self.mem_rec = []\n",
        "        self.spk_rec = []\n",
        "\n",
        "    def forward(self, inputs):\n",
        "        # h1 = torch.einsum(\"abc,cd->abd\", (inputs, self.w1))\n",
        "        syn = torch.zeros((batch_size,self.size_out), device=device, dtype=dtype)\n",
        "        mem = torch.zeros((batch_size,self.size_out), device=device, dtype=dtype)\n",
        "\n",
        "        if hasattr(self, 'alpha'):\n",
        "          self.alpha.data = torch.clamp(self.alpha.data, 0.9, 0.995)\n",
        "        if hasattr(self, 'beta'):\n",
        "          self.beta.data = torch.clamp(self.beta.data, 0.9, 0.995)\n",
        "\n",
        "        self.mem_rec = []\n",
        "        self.spk_rec = []\n",
        "        \n",
        "\n",
        "        # Compute hidden layer activity\n",
        "        out = torch.zeros((batch_size, self.size_out), device=device, dtype=dtype)\n",
        "        h1_from_input = torch.einsum(\"abc,cd->abd\", (inputs, self.w1))        \n",
        "        for t in range(nb_steps):\n",
        "            # if t%5==0:\n",
        "            #     print(t/nb_steps, ' ', end='')\n",
        "            h1 = h1_from_input[:,t,:] \n",
        "            h1 += torch.einsum(\"ab,bc->ac\", (out, self.v1))\n",
        "            mthr = mem-1.0\n",
        "            out = spike_fn(mthr)\n",
        "            rst = out.detach() # We do not want to backprop through the reset\n",
        "\n",
        "            new_syn = self.alpha*syn +h1\n",
        "    #         new_mem = (self.beta*mem +syn)*(1.0-rst)\n",
        "            new_mem = self.beta*(mem - rst) + rst + (1 - self.beta.detach())*syn\n",
        "\n",
        "            self.mem_rec.append(mem)\n",
        "            self.spk_rec.append(out)\n",
        "            \n",
        "            mem = new_mem\n",
        "            syn = new_syn\n",
        "        # print('')\n",
        "\n",
        "        self.mem_rec = torch.stack(self.mem_rec,dim=1)\n",
        "        self.spk_rec = torch.stack(self.spk_rec,dim=1)\n",
        "\n",
        "        return self.mem_rec, self.spk_rec"
      ],
      "execution_count": 110,
      "outputs": []
    },
    {
      "cell_type": "code",
      "metadata": {
        "id": "wHBS3C4f6suD"
      },
      "source": [
        "class Spiking_Readout(nn.Module):\n",
        "    \"\"\" Custom Linear layer but mimics a standard linear layer \"\"\"\n",
        "    def __init__(self, size_in, size_out):\n",
        "        super().__init__()\n",
        "\n",
        "\n",
        "        self.alpha = nn.Parameter(torch.empty((1,size_out), device=device, dtype=dtype), requires_grad=True)\n",
        "        self.beta = nn.Parameter(torch.empty((1,size_out), device=device, dtype=dtype), requires_grad=True)\n",
        "\n",
        "        torch.nn.init.normal_(self.alpha, mean=np.exp(-time_step/tau_syn), std=1e-6)\n",
        "        torch.nn.init.normal_(self.beta, mean=np.exp(-time_step/tau_mem), std=1e-6)\n",
        "\n",
        "        self.size_in = size_in\n",
        "        self.size_out = size_out\n",
        "\n",
        "        weight_scale = 7*(1.0-np.exp(-time_step/tau_mem)) # this should give us some spikes to begin with\n",
        "\n",
        "        self.w2 = nn.Parameter(torch.empty((size_in, size_out), device=device, dtype=dtype, requires_grad=True))\n",
        "        torch.nn.init.uniform_(self.w2, -2*weight_scale/np.sqrt(size_out), 2*weight_scale/np.sqrt(size_out))\n",
        "\n",
        "        self.w3 = nn.Parameter(torch.empty((size_out*nb_steps, size_out), device=device, dtype=dtype, requires_grad=True))\n",
        "        torch.nn.init.uniform_(self.w2, -2*weight_scale/np.sqrt(size_out), 2*weight_scale/np.sqrt(size_out))\n",
        "\n",
        "    def forward(self, inputs):\n",
        "\n",
        "        if hasattr(self, 'alpha'):\n",
        "          self.alpha.data = torch.clamp(self.alpha.data, 2/np.e, 0.995)\n",
        "        if hasattr(self, 'beta'):\n",
        "          self.beta.data = torch.clamp(self.beta.data, 2/np.e, 0.995)\n",
        "\n",
        "        h2= torch.einsum(\"abc,cd->abd\", (inputs, self.w2))\n",
        "        flt = torch.zeros((batch_size,self.size_out), device=device, dtype=dtype)\n",
        "        out = torch.zeros((batch_size,self.size_out), device=device, dtype=dtype)\n",
        "        out_rec = []\n",
        "        for t in range(nb_steps):\n",
        "            new_flt = self.alpha*flt +h2[:,t]\n",
        "            new_out = self.beta*out +flt\n",
        "\n",
        "            flt = new_flt\n",
        "            out = new_out\n",
        "\n",
        "            out_rec.append(out)\n",
        "\n",
        "        out_rec = torch.stack(out_rec,dim=1)\n",
        "        out_rec = out_rec.reshape(batch_size,-1)\n",
        "\n",
        "        final_out= torch.einsum(\"ab,bc->ac\", (out_rec, self.w3))\n",
        "\n",
        "        return final_out"
      ],
      "execution_count": 111,
      "outputs": []
    },
    {
      "cell_type": "code",
      "metadata": {
        "id": "SrywFHhIWCtg"
      },
      "source": [
        "class Spiking_Network(torch.nn.Module):\n",
        "    def __init__(self, D_in, H, D_out):\n",
        "        \"\"\"\n",
        "        In the constructor we instantiate two nn.Linear modules and assign them as\n",
        "        member variables.\n",
        "        \"\"\"\n",
        "        super(Spiking_Network, self).__init__() \n",
        "        self.spk_layers = [Spiking_Linear_layer(D_in, 5*H),\n",
        "          Spiking_Linear_layer(5*H, 3*H),\n",
        "          Spiking_Linear_layer(3*H, 3*H),\n",
        "          Spiking_Linear_layer(3*H, 2*H)]\n",
        "\n",
        "        self.rd_out = Spiking_Readout(2*H, D_out)\n",
        "        # self.linear1 = nn.Linear(D_out*nb_steps, D_out).to(device)\n",
        "        self.prs = {\n",
        "            'f_lower':0.001,\n",
        "            'f_upper':100,\n",
        "            'p_up':2,\n",
        "            'lambda_lower':5e-3,\n",
        "            'lambda_upper':0.01,\n",
        "            'batch_size':batch_size\n",
        "        }\n",
        "\n",
        "\n",
        "    def forward(self, inputs):\n",
        "        \"\"\"\n",
        "        In the forward function we accept a Tensor of input data and we must return\n",
        "        a Tensor of output data. We can use Modules defined in the constructor as\n",
        "        well as arbitrary operators on Tensors.\n",
        "        \"\"\"\n",
        "        mem_rec, spk_rec = (0,inputs)\n",
        "\n",
        "        loss = 0\n",
        "\n",
        "        for layer in self.spk_layers:\n",
        "          mem_rec,spk_rec = layer(spk_rec)\n",
        "\n",
        "\n",
        "          l_low = self.loss_lower(layer, self.prs)\n",
        "          l_up = self.loss_upper(layer, self.prs)\n",
        "          l_reg = (l_up + l_low).sum()\n",
        "          loss += (1./self.prs['batch_size'])*l_reg\n",
        "\n",
        "\n",
        "        out_rec = self.rd_out(spk_rec)\n",
        "        # out_rec = self.linear1(out_rec)\n",
        "\n",
        "        other_recs = [mem_rec, spk_rec]\n",
        "        return out_rec, other_recs, loss\n",
        "  \n",
        "    def loss_upper(self, spk_layer, prs):\n",
        "      tmp = (1./spk_layer.size_out)*spk_layer.spk_rec.sum(1).sum(1) - prs['f_upper']\n",
        "      loss_upper = prs['lambda_upper']*((torch.clamp(tmp, min=0.))** prs['p_up'])\n",
        "      return loss_upper\n",
        "    def loss_lower(self, spk_layer, prs):\n",
        "      tmp = prs['f_lower'] - spk_layer.spk_rec.sum(1)\n",
        "      tmp = (torch.clamp(tmp, min=0.))**2\n",
        "      loss_lower = prs['lambda_lower']*tmp.sum(1)\n",
        "      return loss_lower / spk_layer.size_out\n",
        "    \n",
        "    \n",
        "    "
      ],
      "execution_count": 112,
      "outputs": []
    },
    {
      "cell_type": "code",
      "metadata": {
        "id": "OWKlvU766Mhb"
      },
      "source": [
        "class Spiking_Network(torch.nn.Module):\n",
        "    def __init__(self, D_in, H, D_out):\n",
        "        \"\"\"\n",
        "        In the constructor we instantiate two nn.Linear modules and assign them as\n",
        "        member variables.\n",
        "        \"\"\"\n",
        "        super(Spiking_Network, self).__init__() \n",
        "        self.spk1 = Spiking_Linear_layer(D_in, 5*H)\n",
        "        self.spk2 = Spiking_Linear_layer(5*H, 3*H)\n",
        "        self.spk3 = Spiking_Linear_layer(3*H, 3*H)\n",
        "        self.spk4 = Spiking_Linear_layer(3*H, 2*H)\n",
        "\n",
        "        self.rd_out = Spiking_Readout(2*H, D_out)\n",
        "        # self.linear1 = nn.Linear(D_out*nb_steps, D_out).to(device)\n",
        "\n",
        "    def forward(self, inputs):\n",
        "        \"\"\"\n",
        "        In the forward function we accept a Tensor of input data and we must return\n",
        "        a Tensor of output data. We can use Modules defined in the constructor as\n",
        "        well as arbitrary operators on Tensors.\n",
        "        \"\"\"\n",
        "\n",
        "        mem_rec,spk_rec = self.spk1(inputs)\n",
        "        mem_rec,spk_rec = self.spk2(spk_rec)\n",
        "        mem_rec,spk_rec = self.spk3(spk_rec)\n",
        "        mem_rec,spk_rec = self.spk4(spk_rec)\n",
        "\n",
        "        out_rec = self.rd_out(spk_rec)\n",
        "        # out_rec = self.linear1(out_rec)\n",
        "\n",
        "        other_recs = [mem_rec, spk_rec]\n",
        "        return out_rec, other_recs\n",
        "    "
      ],
      "execution_count": 113,
      "outputs": []
    },
    {
      "cell_type": "code",
      "metadata": {
        "id": "Me6l9EYaNzQw"
      },
      "source": [
        "def train(x_data, y_data, x_val, y_val, lr=2e-3, nb_epochs=10):\n",
        "\n",
        "    model = Spiking_Network(nb_inputs, nb_hidden, nb_outputs)\n",
        "    optimizer = torch.optim.Adam(model.parameters(), lr=lr, betas=(0.9,0.999))\n",
        "\n",
        "    decayRate = 0.975\n",
        "    my_lr_scheduler = torch.optim.lr_scheduler.ExponentialLR(optimizer=optimizer, gamma=decayRate)\n",
        "\n",
        "    linear_fn = nn.LogSoftmax(dim=1)\n",
        "    # linear_fn = nn.Linear(2,2)\n",
        "    loss_fn = nn.MSELoss()\n",
        "    \n",
        "    loss_hist = []\n",
        "    loss_hist_val = []\n",
        "\n",
        "    early_stop = 50\n",
        "\n",
        "    early_stop_ctr = 0\n",
        "    for e in range(nb_epochs):\n",
        "        \n",
        "        local_loss = []\n",
        "        local_val_loss = []\n",
        "        for x_local, y_local in sparse_data_generator(x_data, y_data, batch_size, nb_steps, nb_inputs):\n",
        "            output,_ = model(x_local)\n",
        "            # velocity_out,_=torch.max(output,1)\n",
        "            # velocity_out = linear_fn(m)\n",
        "\n",
        "\n",
        "\n",
        "            loss_train = loss_fn(output.float(), y_local.float()) \n",
        "            \n",
        "\n",
        "\n",
        "            optimizer.zero_grad()\n",
        "            loss_train.backward()\n",
        "            optimizer.step()\n",
        "            local_loss.append(loss_train.item())\n",
        "\n",
        "        for x_local, y_local in sparse_data_generator(x_val, y_val, batch_size, nb_steps, nb_inputs):\n",
        "            val_out,_ = model(x_local)\n",
        "            loss_test = loss_fn(val_out.float(), y_local.float())\n",
        "            \n",
        "            local_val_loss.append(loss_test.item())\n",
        "        \n",
        "        \n",
        "        mean_loss = np.mean(local_loss)\n",
        "        mean_val_loss = np.mean(local_val_loss)\n",
        "\n",
        "        my_lr_scheduler.step()\n",
        "\n",
        "        print(\"Epoch %i: loss=%.5f  validation loss=%.5f\"%(e+1,mean_loss,mean_val_loss))\n",
        "\n",
        "        if e>early_stop:\n",
        "          if not mean_val_loss < min(loss_hist_val[e-early_stop:]):\n",
        "            early_stop_ctr += 1\n",
        "        if early_stop_ctr >= early_stop:\n",
        "          break\n",
        "        \n",
        "\n",
        "        loss_hist.append(mean_loss)\n",
        "        loss_hist_val.append(mean_val_loss)\n",
        "\n",
        "        \n",
        "\n",
        "        \n",
        "        \n",
        "    return model, loss_hist, loss_hist_val"
      ],
      "execution_count": 117,
      "outputs": []
    },
    {
      "cell_type": "code",
      "metadata": {
        "id": "SSCdl5f4SAXo"
      },
      "source": [
        "import gc\n",
        "gc.collect() # Python thing\n",
        "torch.cuda.empty_cache() # PyTorch thing\n"
      ],
      "execution_count": 118,
      "outputs": []
    },
    {
      "cell_type": "code",
      "metadata": {
        "colab": {
          "base_uri": "https://localhost:8080/"
        },
        "id": "X7jHi6ZiNzQx",
        "outputId": "b7ad6663-6c1f-4c32-ca3e-b877819b892f"
      },
      "source": [
        "model, loss_hist, val_loss = train(X_train_tensors_final, y_train_tensors, X_test_tensors_final, y_test_tensors, lr=5e-7, nb_epochs=100)"
      ],
      "execution_count": null,
      "outputs": [
        {
          "output_type": "stream",
          "text": [
            "Epoch 1: loss=0.21206  validation loss=0.19613\n",
            "Epoch 2: loss=0.16006  validation loss=0.13749\n",
            "Epoch 3: loss=0.10724  validation loss=0.08925\n",
            "Epoch 4: loss=0.07175  validation loss=0.05984\n",
            "Epoch 5: loss=0.05036  validation loss=0.04253\n",
            "Epoch 6: loss=0.03876  validation loss=0.03436\n",
            "Epoch 7: loss=0.03307  validation loss=0.03047\n",
            "Epoch 8: loss=0.02986  validation loss=0.02772\n",
            "Epoch 9: loss=0.02746  validation loss=0.02580\n",
            "Epoch 10: loss=0.02542  validation loss=0.02407\n",
            "Epoch 11: loss=0.02361  validation loss=0.02235\n",
            "Epoch 12: loss=0.02195  validation loss=0.02099\n",
            "Epoch 13: loss=0.02043  validation loss=0.01977\n",
            "Epoch 14: loss=0.01908  validation loss=0.01845\n",
            "Epoch 15: loss=0.01787  validation loss=0.01748\n",
            "Epoch 16: loss=0.01677  validation loss=0.01647\n",
            "Epoch 17: loss=0.01579  validation loss=0.01565\n",
            "Epoch 18: loss=0.01491  validation loss=0.01492\n",
            "Epoch 19: loss=0.01414  validation loss=0.01424\n",
            "Epoch 20: loss=0.01344  validation loss=0.01356\n",
            "Epoch 21: loss=0.01285  validation loss=0.01312\n",
            "Epoch 22: loss=0.01231  validation loss=0.01275\n",
            "Epoch 23: loss=0.01183  validation loss=0.01232\n",
            "Epoch 24: loss=0.01143  validation loss=0.01206\n",
            "Epoch 25: loss=0.01107  validation loss=0.01167\n",
            "Epoch 26: loss=0.01075  validation loss=0.01140\n",
            "Epoch 27: loss=0.01046  validation loss=0.01112\n",
            "Epoch 28: loss=0.01021  validation loss=0.01087\n",
            "Epoch 29: loss=0.00998  validation loss=0.01075\n",
            "Epoch 30: loss=0.00978  validation loss=0.01053\n"
          ],
          "name": "stdout"
        }
      ]
    },
    {
      "cell_type": "code",
      "metadata": {
        "id": "uHsb4ZNXNzQy",
        "colab": {
          "base_uri": "https://localhost:8080/",
          "height": 258
        },
        "outputId": "ea0da757-7bd1-4a09-95a5-436d4d397574"
      },
      "source": [
        "plt.figure(figsize=(8,5),dpi=130)\n",
        "plt.plot(loss_hist)\n",
        "plt.plot(val_loss)\n",
        "plt.legend(['training loss', 'val loss'])\n",
        "plt.ylim\n",
        "plt.xlabel(\"Epoch\")\n",
        "plt.ylabel(\"Loss\")\n",
        "sns.despine()"
      ],
      "execution_count": 40,
      "outputs": [
        {
          "output_type": "error",
          "ename": "NameError",
          "evalue": "ignored",
          "traceback": [
            "\u001b[0;31m---------------------------------------------------------------------------\u001b[0m",
            "\u001b[0;31mNameError\u001b[0m                                 Traceback (most recent call last)",
            "\u001b[0;32m<ipython-input-40-b76de382748c>\u001b[0m in \u001b[0;36m<module>\u001b[0;34m()\u001b[0m\n\u001b[1;32m      1\u001b[0m \u001b[0mplt\u001b[0m\u001b[0;34m.\u001b[0m\u001b[0mfigure\u001b[0m\u001b[0;34m(\u001b[0m\u001b[0mfigsize\u001b[0m\u001b[0;34m=\u001b[0m\u001b[0;34m(\u001b[0m\u001b[0;36m8\u001b[0m\u001b[0;34m,\u001b[0m\u001b[0;36m5\u001b[0m\u001b[0;34m)\u001b[0m\u001b[0;34m,\u001b[0m\u001b[0mdpi\u001b[0m\u001b[0;34m=\u001b[0m\u001b[0;36m130\u001b[0m\u001b[0;34m)\u001b[0m\u001b[0;34m\u001b[0m\u001b[0;34m\u001b[0m\u001b[0m\n\u001b[0;32m----> 2\u001b[0;31m \u001b[0mplt\u001b[0m\u001b[0;34m.\u001b[0m\u001b[0mplot\u001b[0m\u001b[0;34m(\u001b[0m\u001b[0mloss_hist\u001b[0m\u001b[0;34m)\u001b[0m\u001b[0;34m\u001b[0m\u001b[0;34m\u001b[0m\u001b[0m\n\u001b[0m\u001b[1;32m      3\u001b[0m \u001b[0mplt\u001b[0m\u001b[0;34m.\u001b[0m\u001b[0mplot\u001b[0m\u001b[0;34m(\u001b[0m\u001b[0mval_loss\u001b[0m\u001b[0;34m)\u001b[0m\u001b[0;34m\u001b[0m\u001b[0;34m\u001b[0m\u001b[0m\n\u001b[1;32m      4\u001b[0m \u001b[0mplt\u001b[0m\u001b[0;34m.\u001b[0m\u001b[0mlegend\u001b[0m\u001b[0;34m(\u001b[0m\u001b[0;34m[\u001b[0m\u001b[0;34m'training loss'\u001b[0m\u001b[0;34m,\u001b[0m \u001b[0;34m'val loss'\u001b[0m\u001b[0;34m]\u001b[0m\u001b[0;34m)\u001b[0m\u001b[0;34m\u001b[0m\u001b[0;34m\u001b[0m\u001b[0m\n\u001b[1;32m      5\u001b[0m \u001b[0mplt\u001b[0m\u001b[0;34m.\u001b[0m\u001b[0mylim\u001b[0m\u001b[0;34m\u001b[0m\u001b[0;34m\u001b[0m\u001b[0m\n",
            "\u001b[0;31mNameError\u001b[0m: name 'loss_hist' is not defined"
          ]
        },
        {
          "output_type": "display_data",
          "data": {
            "text/plain": [
              "<Figure size 1040x650 with 0 Axes>"
            ]
          },
          "metadata": {
            "tags": []
          }
        }
      ]
    },
    {
      "cell_type": "code",
      "metadata": {
        "id": "8KqV85ZuIbFI"
      },
      "source": [
        "from matplotlib.gridspec import GridSpec\n",
        "\n",
        "def plot_voltage_traces(mem, spk=None, dim=(3,5), spike_height=5):\n",
        "    gs=GridSpec(*dim)\n",
        "    if spk is not None:\n",
        "        dat = 1.0*mem\n",
        "        dat[spk>0.0] = spike_height\n",
        "        dat = dat.detach().cpu().numpy()\n",
        "    else:\n",
        "        dat = mem.detach().cpu().numpy()\n",
        "    for i in range(np.prod(dim)):\n",
        "        if i==0: a0=ax=plt.subplot(gs[i])\n",
        "        else: ax=plt.subplot(gs[i],sharey=a0)\n",
        "        ax.plot(dat[i])\n",
        "        ax.axis(\"off\")"
      ],
      "execution_count": 181,
      "outputs": []
    },
    {
      "cell_type": "code",
      "metadata": {
        "id": "K5KxpWX2OBqP"
      },
      "source": [
        "correlation_array_1 = []\n",
        "correlation_array_2 = []\n",
        "\n",
        "pred = []\n",
        "y_val = []\n",
        "for x_local, y_local in sparse_data_generator(X_test_tensors_final, y_test_tensors, batch_size, nb_steps, nb_inputs, shuffle=False):\n",
        "    val_out,mem = model(x_local)\n",
        "    val_out = val_out.detach().cpu()\n",
        "    pred.append(val_out)\n",
        "    y_val.append(y_local)\n",
        "    \n",
        "\n",
        "    correlation_array_1.append(stats.pearsonr(val_out[:,0].cpu(), y_local[:,0].cpu())[0])\n",
        "    correlation_array_2.append(stats.pearsonr(val_out[:,1].cpu(), y_local[:,1].cpu())[0])"
      ],
      "execution_count": 185,
      "outputs": []
    },
    {
      "cell_type": "code",
      "metadata": {
        "colab": {
          "base_uri": "https://localhost:8080/",
          "height": 248
        },
        "id": "SDS-w6-KJf2E",
        "outputId": "825c891f-6944-48f3-a411-8926bdc2d43e"
      },
      "source": [
        "plot_voltage_traces(pred[15])"
      ],
      "execution_count": 190,
      "outputs": [
        {
          "output_type": "display_data",
          "data": {
            "image/png": "[encoded data removed]",
            "text/plain": [
              "<Figure size 432x288 with 15 Axes>"
            ]
          },
          "metadata": {
            "tags": [],
            "needs_background": "light"
          }
        }
      ]
    },
    {
      "cell_type": "code",
      "metadata": {
        "id": "I8Tr3PAVYzGZ",
        "colab": {
          "base_uri": "https://localhost:8080/",
          "height": 428
        },
        "outputId": "50ac5b94-c225-46f4-a221-5bfe684774c4"
      },
      "source": [
        "sample=15\n",
        "fig = plt.figure()\n",
        "plt.plot(pred[sample][:,1])\n",
        "plt.plot(y_val[sample][:,1].cpu())\n",
        "plt.legend(['predicted', 'ground truth'])\n",
        "fig.set_size_inches(20,7)"
      ],
      "execution_count": 189,
      "outputs": [
        {
          "output_type": "display_data",
          "data": {
            "image/png": "[encoded data removed]",
            "text/plain": [
              "<Figure size 1440x504 with 1 Axes>"
            ]
          },
          "metadata": {
            "tags": [],
            "needs_background": "light"
          }
        }
      ]
    },
    {
      "cell_type": "code",
      "metadata": {
        "id": "rjS5Hzt1aj0s"
      },
      "source": [
        "correlation_array_1 = [x for x in correlation_array_1 if str(x) != 'nan']\n",
        "correlation_array_2 = [x for x in correlation_array_2 if str(x) != 'nan']"
      ],
      "execution_count": 143,
      "outputs": []
    },
    {
      "cell_type": "code",
      "metadata": {
        "id": "e_HBCmBkYDRM",
        "colab": {
          "base_uri": "https://localhost:8080/"
        },
        "outputId": "69ea312b-6b37-4ea5-be26-cb5dc0aa835d"
      },
      "source": [
        "print(np.mean(correlation_array_1), np.std(correlation_array_1))\n",
        "print(np.mean(correlation_array_2), np.std(correlation_array_2))"
      ],
      "execution_count": 187,
      "outputs": [
        {
          "output_type": "stream",
          "text": [
            "0.3606988655175808 0.3143640037500568\n",
            "0.44638229338762214 0.3761820220751572\n"
          ],
          "name": "stdout"
        }
      ]
    },
    {
      "cell_type": "code",
      "metadata": {
        "id": "Gi3QcJ62YWSm",
        "colab": {
          "base_uri": "https://localhost:8080/"
        },
        "outputId": "1a6c2933-7c43-49ec-f1d0-26ca5d4a59c2"
      },
      "source": [
        "print(np.mean(correlation_array_1 + correlation_array_2), np.std(correlation_array_1 + correlation_array_2))"
      ],
      "execution_count": 188,
      "outputs": [
        {
          "output_type": "stream",
          "text": [
            "0.4035405794526016 0.34929104303725\n"
          ],
          "name": "stdout"
        }
      ]
    },
    {
      "cell_type": "code",
      "metadata": {
        "id": "KsE6XJHkXo0b",
        "colab": {
          "base_uri": "https://localhost:8080/"
        },
        "outputId": "6dbd6172-0c90-4367-ecad-4f7c92a58b0c"
      },
      "source": [
        "val_out[:,0].shape"
      ],
      "execution_count": 98,
      "outputs": [
        {
          "output_type": "execute_result",
          "data": {
            "text/plain": [
              "torch.Size([256])"
            ]
          },
          "metadata": {
            "tags": []
          },
          "execution_count": 98
        }
      ]
    },
    {
      "cell_type": "code",
      "metadata": {
        "id": "-Yysz7sPfRD_",
        "colab": {
          "base_uri": "https://localhost:8080/"
        },
        "outputId": "76ffc6e7-8f3a-4ec4-ec4e-cc269e75553e"
      },
      "source": [
        "pred[0][1]"
      ],
      "execution_count": 99,
      "outputs": [
        {
          "output_type": "execute_result",
          "data": {
            "text/plain": [
              "tensor([0.4792, 0.5190])"
            ]
          },
          "metadata": {
            "tags": []
          },
          "execution_count": 99
        }
      ]
    },
    {
      "cell_type": "code",
      "metadata": {
        "id": "D-kdZ1f2NzQy",
        "colab": {
          "base_uri": "https://localhost:8080/",
          "height": 391
        },
        "outputId": "821219cb-9adc-4d94-a337-777adf8fa6ad"
      },
      "source": [
        "np.corrcoef(pred[0][1],y_val[0])"
      ],
      "execution_count": 100,
      "outputs": [
        {
          "output_type": "error",
          "ename": "TypeError",
          "evalue": "ignored",
          "traceback": [
            "\u001b[0;31m---------------------------------------------------------------------------\u001b[0m",
            "\u001b[0;31mTypeError\u001b[0m                                 Traceback (most recent call last)",
            "\u001b[0;32m<ipython-input-100-426b50d9d18b>\u001b[0m in \u001b[0;36m<module>\u001b[0;34m()\u001b[0m\n\u001b[0;32m----> 1\u001b[0;31m \u001b[0mnp\u001b[0m\u001b[0;34m.\u001b[0m\u001b[0mcorrcoef\u001b[0m\u001b[0;34m(\u001b[0m\u001b[0mpred\u001b[0m\u001b[0;34m[\u001b[0m\u001b[0;36m0\u001b[0m\u001b[0;34m]\u001b[0m\u001b[0;34m[\u001b[0m\u001b[0;36m1\u001b[0m\u001b[0;34m]\u001b[0m\u001b[0;34m,\u001b[0m\u001b[0my_val\u001b[0m\u001b[0;34m[\u001b[0m\u001b[0;36m0\u001b[0m\u001b[0;34m]\u001b[0m\u001b[0;34m)\u001b[0m\u001b[0;34m\u001b[0m\u001b[0;34m\u001b[0m\u001b[0m\n\u001b[0m",
            "\u001b[0;32m<__array_function__ internals>\u001b[0m in \u001b[0;36mcorrcoef\u001b[0;34m(*args, **kwargs)\u001b[0m\n",
            "\u001b[0;32m/usr/local/lib/python3.7/dist-packages/numpy/lib/function_base.py\u001b[0m in \u001b[0;36mcorrcoef\u001b[0;34m(x, y, rowvar, bias, ddof)\u001b[0m\n\u001b[1;32m   2549\u001b[0m         warnings.warn('bias and ddof have no effect and are deprecated',\n\u001b[1;32m   2550\u001b[0m                       DeprecationWarning, stacklevel=3)\n\u001b[0;32m-> 2551\u001b[0;31m     \u001b[0mc\u001b[0m \u001b[0;34m=\u001b[0m \u001b[0mcov\u001b[0m\u001b[0;34m(\u001b[0m\u001b[0mx\u001b[0m\u001b[0;34m,\u001b[0m \u001b[0my\u001b[0m\u001b[0;34m,\u001b[0m \u001b[0mrowvar\u001b[0m\u001b[0;34m)\u001b[0m\u001b[0;34m\u001b[0m\u001b[0;34m\u001b[0m\u001b[0m\n\u001b[0m\u001b[1;32m   2552\u001b[0m     \u001b[0;32mtry\u001b[0m\u001b[0;34m:\u001b[0m\u001b[0;34m\u001b[0m\u001b[0;34m\u001b[0m\u001b[0m\n\u001b[1;32m   2553\u001b[0m         \u001b[0md\u001b[0m \u001b[0;34m=\u001b[0m \u001b[0mdiag\u001b[0m\u001b[0;34m(\u001b[0m\u001b[0mc\u001b[0m\u001b[0;34m)\u001b[0m\u001b[0;34m\u001b[0m\u001b[0;34m\u001b[0m\u001b[0m\n",
            "\u001b[0;32m<__array_function__ internals>\u001b[0m in \u001b[0;36mcov\u001b[0;34m(*args, **kwargs)\u001b[0m\n",
            "\u001b[0;32m/usr/local/lib/python3.7/dist-packages/numpy/lib/function_base.py\u001b[0m in \u001b[0;36mcov\u001b[0;34m(m, y, rowvar, bias, ddof, fweights, aweights)\u001b[0m\n\u001b[1;32m   2399\u001b[0m         \u001b[0mdtype\u001b[0m \u001b[0;34m=\u001b[0m \u001b[0mnp\u001b[0m\u001b[0;34m.\u001b[0m\u001b[0mresult_type\u001b[0m\u001b[0;34m(\u001b[0m\u001b[0mm\u001b[0m\u001b[0;34m,\u001b[0m \u001b[0mnp\u001b[0m\u001b[0;34m.\u001b[0m\u001b[0mfloat64\u001b[0m\u001b[0;34m)\u001b[0m\u001b[0;34m\u001b[0m\u001b[0;34m\u001b[0m\u001b[0m\n\u001b[1;32m   2400\u001b[0m     \u001b[0;32melse\u001b[0m\u001b[0;34m:\u001b[0m\u001b[0;34m\u001b[0m\u001b[0;34m\u001b[0m\u001b[0m\n\u001b[0;32m-> 2401\u001b[0;31m         \u001b[0my\u001b[0m \u001b[0;34m=\u001b[0m \u001b[0mnp\u001b[0m\u001b[0;34m.\u001b[0m\u001b[0masarray\u001b[0m\u001b[0;34m(\u001b[0m\u001b[0my\u001b[0m\u001b[0;34m)\u001b[0m\u001b[0;34m\u001b[0m\u001b[0;34m\u001b[0m\u001b[0m\n\u001b[0m\u001b[1;32m   2402\u001b[0m         \u001b[0;32mif\u001b[0m \u001b[0my\u001b[0m\u001b[0;34m.\u001b[0m\u001b[0mndim\u001b[0m \u001b[0;34m>\u001b[0m \u001b[0;36m2\u001b[0m\u001b[0;34m:\u001b[0m\u001b[0;34m\u001b[0m\u001b[0;34m\u001b[0m\u001b[0m\n\u001b[1;32m   2403\u001b[0m             \u001b[0;32mraise\u001b[0m \u001b[0mValueError\u001b[0m\u001b[0;34m(\u001b[0m\u001b[0;34m\"y has more than 2 dimensions\"\u001b[0m\u001b[0;34m)\u001b[0m\u001b[0;34m\u001b[0m\u001b[0;34m\u001b[0m\u001b[0m\n",
            "\u001b[0;32m/usr/local/lib/python3.7/dist-packages/numpy/core/_asarray.py\u001b[0m in \u001b[0;36masarray\u001b[0;34m(a, dtype, order)\u001b[0m\n\u001b[1;32m     81\u001b[0m \u001b[0;34m\u001b[0m\u001b[0m\n\u001b[1;32m     82\u001b[0m     \"\"\"\n\u001b[0;32m---> 83\u001b[0;31m     \u001b[0;32mreturn\u001b[0m \u001b[0marray\u001b[0m\u001b[0;34m(\u001b[0m\u001b[0ma\u001b[0m\u001b[0;34m,\u001b[0m \u001b[0mdtype\u001b[0m\u001b[0;34m,\u001b[0m \u001b[0mcopy\u001b[0m\u001b[0;34m=\u001b[0m\u001b[0;32mFalse\u001b[0m\u001b[0;34m,\u001b[0m \u001b[0morder\u001b[0m\u001b[0;34m=\u001b[0m\u001b[0morder\u001b[0m\u001b[0;34m)\u001b[0m\u001b[0;34m\u001b[0m\u001b[0;34m\u001b[0m\u001b[0m\n\u001b[0m\u001b[1;32m     84\u001b[0m \u001b[0;34m\u001b[0m\u001b[0m\n\u001b[1;32m     85\u001b[0m \u001b[0;34m\u001b[0m\u001b[0m\n",
            "\u001b[0;32m/usr/local/lib/python3.7/dist-packages/torch/tensor.py\u001b[0m in \u001b[0;36m__array__\u001b[0;34m(self, dtype)\u001b[0m\n\u001b[1;32m    619\u001b[0m             \u001b[0;32mreturn\u001b[0m \u001b[0mhandle_torch_function\u001b[0m\u001b[0;34m(\u001b[0m\u001b[0mTensor\u001b[0m\u001b[0;34m.\u001b[0m\u001b[0m__array__\u001b[0m\u001b[0;34m,\u001b[0m \u001b[0;34m(\u001b[0m\u001b[0mself\u001b[0m\u001b[0;34m,\u001b[0m\u001b[0;34m)\u001b[0m\u001b[0;34m,\u001b[0m \u001b[0mself\u001b[0m\u001b[0;34m,\u001b[0m \u001b[0mdtype\u001b[0m\u001b[0;34m=\u001b[0m\u001b[0mdtype\u001b[0m\u001b[0;34m)\u001b[0m\u001b[0;34m\u001b[0m\u001b[0;34m\u001b[0m\u001b[0m\n\u001b[1;32m    620\u001b[0m         \u001b[0;32mif\u001b[0m \u001b[0mdtype\u001b[0m \u001b[0;32mis\u001b[0m \u001b[0;32mNone\u001b[0m\u001b[0;34m:\u001b[0m\u001b[0;34m\u001b[0m\u001b[0;34m\u001b[0m\u001b[0m\n\u001b[0;32m--> 621\u001b[0;31m             \u001b[0;32mreturn\u001b[0m \u001b[0mself\u001b[0m\u001b[0;34m.\u001b[0m\u001b[0mnumpy\u001b[0m\u001b[0;34m(\u001b[0m\u001b[0;34m)\u001b[0m\u001b[0;34m\u001b[0m\u001b[0;34m\u001b[0m\u001b[0m\n\u001b[0m\u001b[1;32m    622\u001b[0m         \u001b[0;32melse\u001b[0m\u001b[0;34m:\u001b[0m\u001b[0;34m\u001b[0m\u001b[0;34m\u001b[0m\u001b[0m\n\u001b[1;32m    623\u001b[0m             \u001b[0;32mreturn\u001b[0m \u001b[0mself\u001b[0m\u001b[0;34m.\u001b[0m\u001b[0mnumpy\u001b[0m\u001b[0;34m(\u001b[0m\u001b[0;34m)\u001b[0m\u001b[0;34m.\u001b[0m\u001b[0mastype\u001b[0m\u001b[0;34m(\u001b[0m\u001b[0mdtype\u001b[0m\u001b[0;34m,\u001b[0m \u001b[0mcopy\u001b[0m\u001b[0;34m=\u001b[0m\u001b[0;32mFalse\u001b[0m\u001b[0;34m)\u001b[0m\u001b[0;34m\u001b[0m\u001b[0;34m\u001b[0m\u001b[0m\n",
            "\u001b[0;31mTypeError\u001b[0m: can't convert cuda:0 device type tensor to numpy. Use Tensor.cpu() to copy the tensor to host memory first."
          ]
        }
      ]
    },
    {
      "cell_type": "code",
      "metadata": {
        "id": "KfvDUl4WNzQ5"
      },
      "source": [
        ""
      ],
      "execution_count": null,
      "outputs": []
    }
  ]
}