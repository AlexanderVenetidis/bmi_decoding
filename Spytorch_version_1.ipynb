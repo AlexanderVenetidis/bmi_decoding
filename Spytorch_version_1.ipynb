{
  "nbformat": 4,
  "nbformat_minor": 0,
  "metadata": {
    "kernelspec": {
      "display_name": "Python 3",
      "language": "python",
      "name": "python3"
    },
    "language_info": {
      "codemirror_mode": {
        "name": "ipython",
        "version": 3
      },
      "file_extension": ".py",
      "mimetype": "text/x-python",
      "name": "python",
      "nbconvert_exporter": "python",
      "pygments_lexer": "ipython3",
      "version": "3.6.7"
    },
    "colab": {
      "name": "Spytorch version 1.ipynb",
      "provenance": [],
      "machine_shape": "hm"
    },
    "accelerator": "GPU"
  },
  "cells": [
    {
      "cell_type": "code",
      "metadata": {
        "colab": {
          "base_uri": "https://localhost:8080/"
        },
        "id": "0OWIrN9fN1YY",
        "outputId": "71df8a3d-1a9c-450b-94da-6cca7d3571e5"
      },
      "source": [
        "from google.colab import drive\n",
        "drive.mount('/content/drive/')"
      ],
      "execution_count": null,
      "outputs": [
        {
          "output_type": "stream",
          "text": [
            "Drive already mounted at /content/drive/; to attempt to forcibly remount, call drive.mount(\"/content/drive/\", force_remount=True).\n"
          ],
          "name": "stdout"
        }
      ]
    },
    {
      "cell_type": "code",
      "metadata": {
        "colab": {
          "base_uri": "https://localhost:8080/"
        },
        "id": "9JTE1fOrN2w6",
        "outputId": "d6a99fd1-1cae-4782-c8bc-237c61215aaf"
      },
      "source": [
        "cd 'drive/MyDrive/Colab Notebooks/BMI-Decoding'"
      ],
      "execution_count": null,
      "outputs": [
        {
          "output_type": "stream",
          "text": [
            "/content/drive/MyDrive/Colab Notebooks/BMI-Decoding\n"
          ],
          "name": "stdout"
        }
      ]
    },
    {
      "cell_type": "code",
      "metadata": {
        "id": "abvTfH2ZNzQU"
      },
      "source": [
        "# import packages\n",
        "import h5py\n",
        "import numpy as np\n",
        "from functions.preprocess import input_shaping, split_index\n",
        "from functions.decoders import lstm_decoder\n",
        "from functions.metrics import compute_rmse, compute_pearson\n",
        "import matplotlib.pyplot as plt\n",
        "import seaborn as sns\n",
        "import time as timer\n",
        "from tensorflow import random"
      ],
      "execution_count": null,
      "outputs": []
    },
    {
      "cell_type": "code",
      "metadata": {
        "colab": {
          "base_uri": "https://localhost:8080/"
        },
        "id": "LOroJZf8NzQf",
        "outputId": "4f125137-3965-45a4-aadc-66d86a610e1c"
      },
      "source": [
        "seed = 2020 # random seed for reproducibility\n",
        "\n",
        "print (\"Starting simulation\")\n",
        "run_start = timer.time()\n",
        "\n",
        "feature_list = ['sua_rate','mua_rate']\n",
        "feature = feature_list[1] # select which spike feature: SUA=0, MUA=1\n",
        "\n",
        "# specify filename to be processed (choose from the list available at https://zenodo.org/record/583331)\n",
        "file_name = 'indy_20160915_01'          # file name\n",
        "kinematic_folder = 'kinematic_data/'    # kinematic data folder\n",
        "feature_folder = 'spike_data/features/' # spike features folder\n",
        "result_folder = 'results/'              # results folder"
      ],
      "execution_count": null,
      "outputs": [
        {
          "output_type": "stream",
          "text": [
            "Starting simulation\n"
          ],
          "name": "stdout"
        }
      ]
    },
    {
      "cell_type": "code",
      "metadata": {
        "id": "Ib-PJx1XNzQh"
      },
      "source": [
        "wdw_time = 0.256 # window size in second\n",
        "lag = -32 # lag between kinematic and feature data (minus indicate feature lagging behaind kinematic)\n",
        "delta_time = 0.004 # sampling interval in second\n",
        "wdw_samp = int(round(wdw_time/delta_time))\n",
        "ol_samp = wdw_samp-1"
      ],
      "execution_count": null,
      "outputs": []
    },
    {
      "cell_type": "markdown",
      "metadata": {
        "id": "HeHp2S6aNzQi"
      },
      "source": [
        "## Importing data to be processed"
      ]
    },
    {
      "cell_type": "code",
      "metadata": {
        "colab": {
          "base_uri": "https://localhost:8080/"
        },
        "id": "i0kXqkHENzQi",
        "outputId": "8e26f3f6-1a89-404c-f639-fa336a8189cf"
      },
      "source": [
        "# open spike features from hdf5 file\n",
        "feature_file = feature_folder+file_name+'_spike_features_'+str(int(wdw_time*1e3))+'ms.h5'\n",
        "print (\"Loading input features from file: \"+feature_file)\n",
        "with h5py.File(feature_file,'r') as f:\n",
        "    input_feature = f[feature].value"
      ],
      "execution_count": null,
      "outputs": [
        {
          "output_type": "stream",
          "text": [
            "Loading input features from file: spike_data/features/indy_20160915_01_spike_features_256ms.h5\n"
          ],
          "name": "stdout"
        },
        {
          "output_type": "stream",
          "text": [
            "/usr/local/lib/python3.7/dist-packages/ipykernel_launcher.py:5: H5pyDeprecationWarning: dataset.value has been deprecated. Use dataset[()] instead.\n",
            "  \"\"\"\n"
          ],
          "name": "stderr"
        }
      ]
    },
    {
      "cell_type": "code",
      "metadata": {
        "colab": {
          "base_uri": "https://localhost:8080/"
        },
        "id": "AkaJm1wtNzQk",
        "outputId": "31e2ff94-75b6-46f8-cf56-630d7c585d60"
      },
      "source": [
        "# open kinematic data from hdf5 file\n",
        "kinematic_file = kinematic_folder+file_name+'_kinematic_data.h5'\n",
        "print (\"Loading kinematic data from file: \"+kinematic_file)\n",
        "#fields: ['cursor_acc', 'cursor_pos', 'cursor_time', 'cursor_vel', 'target_pos']\n",
        "with h5py.File(kinematic_file,'r') as f:\n",
        "    cursor_vel = f['cursor_vel'].value # in mm/s"
      ],
      "execution_count": null,
      "outputs": [
        {
          "output_type": "stream",
          "text": [
            "Loading kinematic data from file: kinematic_data/indy_20160915_01_kinematic_data.h5\n"
          ],
          "name": "stdout"
        },
        {
          "output_type": "stream",
          "text": [
            "/usr/local/lib/python3.7/dist-packages/ipykernel_launcher.py:6: H5pyDeprecationWarning: dataset.value has been deprecated. Use dataset[()] instead.\n",
            "  \n"
          ],
          "name": "stderr"
        }
      ]
    },
    {
      "cell_type": "markdown",
      "metadata": {
        "id": "NquB-lB-NzQk"
      },
      "source": [
        "## Preprocessing the data to fit a model"
      ]
    },
    {
      "cell_type": "code",
      "metadata": {
        "id": "o0oQK5kmNzQl"
      },
      "source": [
        "from sklearn.preprocessing import StandardScaler, MinMaxScaler\n",
        "mm = MinMaxScaler()\n",
        "ss = StandardScaler()\n",
        "\n",
        "\n",
        "X_ss = ss.fit_transform(input_feature)\n",
        "y_mm = mm.fit_transform(cursor_vel)"
      ],
      "execution_count": null,
      "outputs": []
    },
    {
      "cell_type": "code",
      "metadata": {
        "colab": {
          "base_uri": "https://localhost:8080/"
        },
        "id": "4xEG1vYyNzQl",
        "outputId": "2881f55a-146a-49bd-e171-5371348c3051"
      },
      "source": [
        "print(X_ss.shape, y_mm.shape)"
      ],
      "execution_count": null,
      "outputs": [
        {
          "output_type": "stream",
          "text": [
            "(95262, 88) (95262, 2)\n"
          ],
          "name": "stdout"
        }
      ]
    },
    {
      "cell_type": "code",
      "metadata": {
        "id": "o1RRC4tANzQm"
      },
      "source": [
        "#first 80,000 for training\n",
        "\n",
        "X_train = X_ss[:80000, :]\n",
        "X_test = X_ss[80000:, :]\n",
        "\n",
        "y_train = y_mm[:80000, :]\n",
        "y_test = y_mm[80000:, :] "
      ],
      "execution_count": null,
      "outputs": []
    },
    {
      "cell_type": "code",
      "metadata": {
        "colab": {
          "base_uri": "https://localhost:8080/"
        },
        "id": "MWp-u1QeNzQn",
        "outputId": "09f76c3a-1c17-4e26-b900-5e14a263c80c"
      },
      "source": [
        "print(\"Training Shape\", X_train.shape, y_train.shape)\n",
        "print(\"Testing Shape\", X_test.shape, y_test.shape) "
      ],
      "execution_count": null,
      "outputs": [
        {
          "output_type": "stream",
          "text": [
            "Training Shape (80000, 88) (80000, 2)\n",
            "Testing Shape (15262, 88) (15262, 2)\n"
          ],
          "name": "stdout"
        }
      ]
    },
    {
      "cell_type": "markdown",
      "metadata": {
        "id": "DkjTRVVPNzQn"
      },
      "source": [
        "## Adjusting the data for pytorch model"
      ]
    },
    {
      "cell_type": "code",
      "metadata": {
        "id": "LZLqP07TNzQo"
      },
      "source": [
        "import torch #pytorch\n",
        "import torch.nn as nn\n",
        "from torch.autograd import Variable"
      ],
      "execution_count": null,
      "outputs": []
    },
    {
      "cell_type": "code",
      "metadata": {
        "id": "VNmaEpNfNzQp"
      },
      "source": [
        "#converting nparrays to tensors for pytorch\n",
        "\n",
        "X_train_tensors = Variable(torch.Tensor(X_train))\n",
        "X_test_tensors = Variable(torch.Tensor(X_test))\n",
        "\n",
        "y_train_tensors = Variable(torch.Tensor(y_train))\n",
        "y_test_tensors = Variable(torch.Tensor(y_test))\n"
      ],
      "execution_count": null,
      "outputs": []
    },
    {
      "cell_type": "code",
      "metadata": {
        "colab": {
          "base_uri": "https://localhost:8080/"
        },
        "id": "_470W5DQNzQp",
        "outputId": "40a99852-781b-4c72-8e45-4fff070e80d7"
      },
      "source": [
        "#reshaping to rows, timestamps, features\n",
        "\n",
        "X_train_tensors_final = torch.reshape(X_train_tensors,   (X_train_tensors.shape[0], 1, X_train_tensors.shape[1]))\n",
        "X_test_tensors_final = torch.reshape(X_test_tensors,  (X_test_tensors.shape[0], 1, X_test_tensors.shape[1]))\n",
        "\n",
        "print(\"Training Shape\", X_train_tensors_final.shape, y_train_tensors.shape)\n",
        "print(\"Testing Shape\", X_test_tensors_final.shape, y_test_tensors.shape)"
      ],
      "execution_count": null,
      "outputs": [
        {
          "output_type": "stream",
          "text": [
            "Training Shape torch.Size([80000, 1, 88]) torch.Size([80000, 2])\n",
            "Testing Shape torch.Size([15262, 1, 88]) torch.Size([15262, 2])\n"
          ],
          "name": "stdout"
        }
      ]
    },
    {
      "cell_type": "markdown",
      "metadata": {
        "id": "nTGy91bdNzQq"
      },
      "source": [
        "## Importing spytorch functions"
      ]
    },
    {
      "cell_type": "code",
      "metadata": {
        "id": "V9Nq4pEzNzQq"
      },
      "source": [
        "# The coarse network structure is dicated by the Fashion MNIST dataset. \n",
        "nb_inputs  = 88*1\n",
        "nb_hidden  = 100\n",
        "nb_outputs = 2\n",
        "\n",
        "time_step = 1e-3\n",
        "nb_steps  = 100\n",
        "\n",
        "batch_size = 256\n",
        "\n",
        "dtype = torch.float\n",
        "# Check whether a GPU is available\n",
        "if torch.cuda.is_available():\n",
        "    device = torch.device(\"cuda\")     \n",
        "else:\n",
        "    device = torch.device(\"cpu\")"
      ],
      "execution_count": null,
      "outputs": []
    },
    {
      "cell_type": "code",
      "metadata": {
        "colab": {
          "base_uri": "https://localhost:8080/"
        },
        "id": "jNXvFvAUNzQr",
        "outputId": "1583b3cf-e8ba-4150-b0a9-279bfb9f573b"
      },
      "source": [
        "tau_mem = 10e-3\n",
        "tau_syn = 5e-3\n",
        "\n",
        "alpha   = float(np.exp(-time_step/tau_syn))\n",
        "beta    = float(np.exp(-time_step/tau_mem))\n",
        "\n",
        "weight_scale = 7*(1.0-beta) # this should give us some spikes to begin with\n",
        "\n",
        "w1 = torch.empty((nb_inputs, nb_hidden),  device=device, dtype=dtype, requires_grad=True)\n",
        "torch.nn.init.normal_(w1, mean=0.0, std=weight_scale/np.sqrt(nb_inputs))\n",
        "\n",
        "w2 = torch.empty((nb_hidden, nb_outputs), device=device, dtype=dtype, requires_grad=True)\n",
        "torch.nn.init.normal_(w2, mean=0.0, std=weight_scale/np.sqrt(nb_hidden))\n",
        "\n",
        "print(\"init done\")"
      ],
      "execution_count": null,
      "outputs": [
        {
          "output_type": "stream",
          "text": [
            "init done\n"
          ],
          "name": "stdout"
        }
      ]
    },
    {
      "cell_type": "code",
      "metadata": {
        "id": "aYz6Du9BNzQs"
      },
      "source": [
        "def current2firing_time(x, tau=20, thr=0.2, tmax=1.0, epsilon=1e-7):\n",
        "    \"\"\" Computes first firing time latency for a current input x assuming the charge time of a current based LIF neuron.\n",
        "\n",
        "    Args:\n",
        "    x -- The \"current\" values\n",
        "\n",
        "    Keyword args:\n",
        "    tau -- The membrane time constant of the LIF neuron to be charged\n",
        "    thr -- The firing threshold value \n",
        "    tmax -- The maximum time returned \n",
        "    epsilon -- A generic (small) epsilon > 0\n",
        "\n",
        "    Returns:\n",
        "    Time to first spike for each \"current\" x\n",
        "    \"\"\"\n",
        "    idx = x<thr\n",
        "    x = np.clip(x,thr+epsilon,1e9)\n",
        "    T = tau*np.log(x/(x-thr))\n",
        "    T[idx] = tmax\n",
        "    return T\n",
        " \n",
        "\n",
        "def sparse_data_generator(X, y, batch_size, nb_steps, nb_units, sample_size=nb_steps,overlap_units=1,shuffle=True ):\n",
        "    \"\"\" This generator takes datasets in analog format and generates spiking network input as sparse tensors. \n",
        "\n",
        "    Args:\n",
        "        X: The data ( sample x event x 2 ) the last dim holds (time,neuron) tuples\n",
        "        y: The labels\n",
        "    \"\"\"\n",
        "\n",
        "    labels_ = np.array(y,dtype=np.int)\n",
        "    number_of_batches = len(X)//batch_size\n",
        "    sample_index = np.arange(0,len(X)-sample_size,overlap_units)\n",
        "\n",
        "#     # compute discrete firing times\n",
        "#     tau_eff = 20e-3/time_step\n",
        "#     firing_times = np.array(current2firing_time(X, tau=tau_eff, tmax=nb_steps), dtype=np.int)\n",
        "#     unit_numbers = np.arange(nb_units)\n",
        "\n",
        "    if shuffle:\n",
        "        np.random.shuffle(sample_index)\n",
        "\n",
        "    total_batch_count = 0\n",
        "    counter = 0\n",
        "    while counter<number_of_batches:\n",
        "        \n",
        "#         for batch_sample_i in range(batch_size):\n",
        "        batch_index = sample_index[batch_size*counter:batch_size*(counter+1)]\n",
        "\n",
        "        \n",
        "        X_batch = np.zeros((batch_size,sample_size,X.shape[-1]))\n",
        "        y_batch = np.zeros((batch_size,y.shape[-1]))\n",
        "        for bc,idx in enumerate(batch_index):\n",
        "            X_batch[bc,:,:] = X[idx:idx+sample_size,:,:].reshape((1,sample_size,X.shape[-1]))\n",
        "            y_batch[bc, :] = y[idx+sample_size,:]\n",
        "            \n",
        "#         i = torch.LongTensor(coo).to(device)\n",
        "#         v = torch.FloatTensor(np.ones(len(coo[0]))).to(device)\n",
        "    \n",
        "        X_batch = torch.FloatTensor(X_batch).to(device)\n",
        "        y_batch = torch.tensor(y_batch,device=device)\n",
        "\n",
        "        yield X_batch.to(device=device), y_batch.to(device=device)\n",
        "\n",
        "        counter += 1"
      ],
      "execution_count": null,
      "outputs": []
    },
    {
      "cell_type": "code",
      "metadata": {
        "id": "-LjSAMtyNzQt"
      },
      "source": [
        "\n",
        "class SurrGradSpike(torch.autograd.Function):\n",
        "    \"\"\"\n",
        "    Here we implement our spiking nonlinearity which also implements \n",
        "    the surrogate gradient. By subclassing torch.autograd.Function, \n",
        "    we will be able to use all of PyTorch's autograd functionality.\n",
        "    Here we use the normalized negative part of a fast sigmoid \n",
        "    as this was done in Zenke & Ganguli (2018).\n",
        "    \"\"\"\n",
        "    \n",
        "    scale = 100.0 # controls steepness of surrogate gradient\n",
        "\n",
        "    @staticmethod\n",
        "    def forward(ctx, input):\n",
        "        \"\"\"\n",
        "        In the forward pass we compute a step function of the input Tensor\n",
        "        and return it. ctx is a context object that we use to stash information which \n",
        "        we need to later backpropagate our error signals. To achieve this we use the \n",
        "        ctx.save_for_backward method.\n",
        "        \"\"\"\n",
        "        ctx.save_for_backward(input)\n",
        "        out = torch.zeros_like(input)\n",
        "        out[input > 0] = 1.0\n",
        "        return out\n",
        "\n",
        "    @staticmethod\n",
        "    def backward(ctx, grad_output):\n",
        "        \"\"\"\n",
        "        In the backward pass we receive a Tensor we need to compute the \n",
        "        surrogate gradient of the loss with respect to the input. \n",
        "        Here we use the normalized negative part of a fast sigmoid \n",
        "        as this was done in Zenke & Ganguli (2018).\n",
        "        \"\"\"\n",
        "        input, = ctx.saved_tensors\n",
        "        grad_input = grad_output.clone()\n",
        "        grad = grad_input/(SurrGradSpike.scale*torch.abs(input)+1.0)**2\n",
        "        return grad\n",
        "    \n",
        "# here we overwrite our naive spike function by the \"SurrGradSpike\" nonlinearity which implements a surrogate gradient\n",
        "spike_fn  = SurrGradSpike.apply"
      ],
      "execution_count": null,
      "outputs": []
    },
    {
      "cell_type": "code",
      "metadata": {
        "id": "0bPcytkRNzQv"
      },
      "source": [
        "def run_snn(inputs):\n",
        "    h1 = torch.einsum(\"abc,cd->abd\", (inputs, w1))\n",
        "    syn = torch.zeros((batch_size,nb_hidden), device=device, dtype=dtype)\n",
        "    mem = torch.zeros((batch_size,nb_hidden), device=device, dtype=dtype)\n",
        "\n",
        "    mem_rec = []\n",
        "    spk_rec = []\n",
        "    \n",
        "\n",
        "    # Compute hidden layer activity\n",
        "    for t in range(nb_steps):\n",
        "        # if t%5==0:\n",
        "        #     print(t/nb_steps, ' ', end='')\n",
        "        mthr = mem-1.0\n",
        "        out = spike_fn(mthr)\n",
        "        rst = out.detach() # We do not want to backprop through the reset\n",
        "\n",
        "        new_syn = alpha*syn +h1[:,t,:]\n",
        "#         new_mem = (beta*mem +syn)*(1.0-rst)\n",
        "        new_mem = beta*(mem - rst) + rst + (1 - beta)*syn\n",
        "\n",
        "        mem_rec.append(mem)\n",
        "        spk_rec.append(out)\n",
        "        \n",
        "        mem = new_mem\n",
        "        syn = new_syn\n",
        "    # print('')\n",
        "\n",
        "    mem_rec = torch.stack(mem_rec,dim=1)\n",
        "    spk_rec = torch.stack(spk_rec,dim=1)\n",
        "    \n",
        "    # nn.Linear(mem_, 128)(mem_rec)\n",
        "\n",
        "    # Readout layer - make into different module, and then make a new module that's a NN module\n",
        "    h2= torch.einsum(\"abc,cd->abd\", (spk_rec, w2))\n",
        "    flt = torch.zeros((batch_size,nb_outputs), device=device, dtype=dtype)\n",
        "    out = torch.zeros((batch_size,nb_outputs), device=device, dtype=dtype)\n",
        "    out_rec = []\n",
        "    for t in range(nb_steps):\n",
        "        new_flt = alpha*flt +h2[:,t]\n",
        "        new_out = beta*out +flt\n",
        "\n",
        "        flt = new_flt\n",
        "        out = new_out\n",
        "\n",
        "        out_rec.append(out)\n",
        "\n",
        "    out_rec = torch.stack(out_rec,dim=1)\n",
        "    out_rec = out_rec.reshape(batch_size,-1)\n",
        "    lin = nn.Linear(nb_outputs*nb_hidden, nb_outputs).to(device)\n",
        "    out_rec = lin(out_rec)\n",
        "\n",
        "    other_recs = [mem_rec, spk_rec]\n",
        "    return out_rec, other_recs"
      ],
      "execution_count": null,
      "outputs": []
    },
    {
      "cell_type": "code",
      "metadata": {
        "id": "Me6l9EYaNzQw"
      },
      "source": [
        "def train(x_data, y_data, x_val, y_val, lr=2e-3, nb_epochs=10):\n",
        "    params = [w1,w2]\n",
        "    optimizer = torch.optim.Adam(params, lr=lr, betas=(0.9,0.999))\n",
        "\n",
        "    linear_fn = nn.LogSoftmax(dim=1)\n",
        "    # linear_fn = nn.Linear(2,2)\n",
        "    loss_fn = nn.MSELoss()\n",
        "    \n",
        "    loss_hist = []\n",
        "    loss_hist_val = []\n",
        "    for e in range(nb_epochs):\n",
        "        local_loss = []\n",
        "        local_val_loss = []\n",
        "        for x_local, y_local in sparse_data_generator(x_data, y_data, batch_size, nb_steps, nb_inputs):\n",
        "            # output,_ = run_snn(x_local.to_dense()) #use when access to gpu is available\n",
        "            output,_ = run_snn(x_local)\n",
        "            # velocity_out,_=torch.max(output,1)\n",
        "            # velocity_out = linear_fn(m)\n",
        "            loss_train = loss_fn(output.float(), y_local.float())\n",
        "            \n",
        "\n",
        "\n",
        "            optimizer.zero_grad()\n",
        "            loss_train.backward()\n",
        "            optimizer.step()\n",
        "            local_loss.append(loss_train.item())\n",
        "\n",
        "        for x_local, y_local in sparse_data_generator(x_val, y_val, batch_size, nb_steps, nb_inputs):\n",
        "            val_out,_ = run_snn(x_local)\n",
        "            loss_test = loss_fn(val_out.float(), y_local.float())\n",
        "            \n",
        "            local_val_loss.append(loss_test.item())\n",
        "        \n",
        "        mean_loss = np.mean(local_loss)\n",
        "        mean_val_loss = np.mean(local_val_loss)\n",
        "\n",
        "        print(\"Epoch %i: loss=%.5f  validation loss=%.5f\"%(e+1,mean_loss,mean_val_loss))\n",
        "\n",
        "        loss_hist.append(mean_loss)\n",
        "        loss_hist_val.append(mean_val_loss)\n",
        "        \n",
        "    return loss_hist, loss_hist_val"
      ],
      "execution_count": null,
      "outputs": []
    },
    {
      "cell_type": "code",
      "metadata": {
        "id": "SSCdl5f4SAXo"
      },
      "source": [
        "import gc\n",
        "gc.collect() # Python thing\n",
        "torch.cuda.empty_cache() # PyTorch thing\n"
      ],
      "execution_count": null,
      "outputs": []
    },
    {
      "cell_type": "code",
      "metadata": {
        "colab": {
          "base_uri": "https://localhost:8080/"
        },
        "id": "X7jHi6ZiNzQx",
        "outputId": "e9a91a5b-55ad-46a3-c056-18f71ec5d9b0"
      },
      "source": [
        "loss_hist, val_loss = train(X_train_tensors_final, y_train_tensors, X_test_tensors_final, y_test_tensors, lr=2e-4, nb_epochs=25)"
      ],
      "execution_count": null,
      "outputs": [
        {
          "output_type": "stream",
          "text": [
            "Epoch 1: loss=24.63498  validation loss=14.96465\n",
            "Epoch 2: loss=8.72444  validation loss=9.87410\n",
            "Epoch 3: loss=5.42216  validation loss=8.33967\n",
            "Epoch 4: loss=3.63739  validation loss=6.17869\n",
            "Epoch 5: loss=2.67509  validation loss=4.68957\n",
            "Epoch 6: loss=2.06517  validation loss=4.41275\n",
            "Epoch 7: loss=1.55967  validation loss=3.10977\n",
            "Epoch 8: loss=1.26829  validation loss=2.94770\n",
            "Epoch 9: loss=1.03137  validation loss=2.27816\n",
            "Epoch 10: loss=0.93064  validation loss=1.77106\n",
            "Epoch 11: loss=0.75247  validation loss=1.62590\n",
            "Epoch 12: loss=0.67843  validation loss=1.35181\n",
            "Epoch 13: loss=0.59177  validation loss=1.06575\n",
            "Epoch 14: loss=0.54389  validation loss=0.94255\n",
            "Epoch 15: loss=0.49318  validation loss=0.90159\n",
            "Epoch 16: loss=0.48284  validation loss=0.87529\n",
            "Epoch 17: loss=0.43581  validation loss=0.72800\n",
            "Epoch 18: loss=0.43696  validation loss=0.61677\n",
            "Epoch 19: loss=0.40172  validation loss=0.59288\n",
            "Epoch 20: loss=0.37938  validation loss=0.50600\n",
            "Epoch 21: loss=0.38923  validation loss=0.48912\n",
            "Epoch 22: loss=0.38005  validation loss=0.58559\n",
            "Epoch 23: loss=0.44127  validation loss=0.40138\n",
            "Epoch 24: loss=0.36994  validation loss=0.50132\n",
            "Epoch 25: loss=0.34847  validation loss=0.39529\n"
          ],
          "name": "stdout"
        }
      ]
    },
    {
      "cell_type": "code",
      "metadata": {
        "id": "uHsb4ZNXNzQy",
        "colab": {
          "base_uri": "https://localhost:8080/",
          "height": 336
        },
        "outputId": "fff25567-a757-4764-9f95-3cdef7fb4a33"
      },
      "source": [
        "plt.figure(figsize=(3.3,2),dpi=150)\n",
        "plt.plot(loss_hist)\n",
        "plt.plot(val_loss)\n",
        "plt.legend(['training loss', 'val loss'])\n",
        "plt.xlabel(\"Epoch\")\n",
        "plt.ylabel(\"Loss\")\n",
        "sns.despine()"
      ],
      "execution_count": null,
      "outputs": [
        {
          "output_type": "display_data",
          "data": {
            "image/png": "[encoded data removed]",
            "text/plain": [
              "<Figure size 495x300 with 1 Axes>"
            ]
          },
          "metadata": {
            "tags": [],
            "needs_background": "light"
          }
        }
      ]
    },
    {
      "cell_type": "code",
      "metadata": {
        "id": "D-kdZ1f2NzQy"
      },
      "source": [
        ""
      ],
      "execution_count": null,
      "outputs": []
    },
    {
      "cell_type": "code",
      "metadata": {
        "id": "KfvDUl4WNzQ5"
      },
      "source": [
        ""
      ],
      "execution_count": null,
      "outputs": []
    }
  ]
}